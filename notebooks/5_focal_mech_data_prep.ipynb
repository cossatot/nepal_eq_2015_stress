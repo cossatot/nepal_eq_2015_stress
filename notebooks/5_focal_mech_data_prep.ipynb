{
 "cells": [
  {
   "cell_type": "code",
   "execution_count": 1,
   "metadata": {
    "collapsed": false
   },
   "outputs": [],
   "source": [
    "%matplotlib inline\n",
    "%config InlineBackend.figure_format = 'retina'"
   ]
  },
  {
   "cell_type": "code",
   "execution_count": 2,
   "metadata": {
    "collapsed": false
   },
   "outputs": [],
   "source": [
    "import numpy as np\n",
    "import pandas as pd\n",
    "import matplotlib.pyplot as plt\n",
    "import pyproj as pj\n",
    "import halfspace.load as hs\n",
    "import halfspace.projections as hsp\n",
    "import halfspace.sandbox as hbx\n",
    "import scipy.ndimage as nd\n",
    "import h5py\n",
    "import json"
   ]
  },
  {
   "cell_type": "code",
   "execution_count": 6,
   "metadata": {
    "collapsed": false
   },
   "outputs": [],
   "source": [
    "isc_file = '../data/fault_data/fms/isc_catalog.csv'\n",
    "\n",
    "eq_df = pd.read_csv(isc_file, skipinitialspace=True, skiprows=13)"
   ]
  },
  {
   "cell_type": "code",
   "execution_count": 7,
   "metadata": {
    "collapsed": false
   },
   "outputs": [
    {
     "data": {
      "text/html": [
       "<div style=\"max-height:1000px;max-width:1500px;overflow:auto;\">\n",
       "<table border=\"1\" class=\"dataframe\">\n",
       "  <thead>\n",
       "    <tr style=\"text-align: right;\">\n",
       "      <th></th>\n",
       "      <th>EVENT_ID</th>\n",
       "      <th>AUTHOR   </th>\n",
       "      <th>DATE      </th>\n",
       "      <th>TIME       </th>\n",
       "      <th>LAT     </th>\n",
       "      <th>LON      </th>\n",
       "      <th>DEPTH</th>\n",
       "      <th>CENTROID</th>\n",
       "      <th>AUTHOR   .1</th>\n",
       "      <th>EX</th>\n",
       "      <th>...</th>\n",
       "      <th>EX.2</th>\n",
       "      <th>T_VAL </th>\n",
       "      <th>T_PL </th>\n",
       "      <th>T_AZM </th>\n",
       "      <th>P_VAL </th>\n",
       "      <th>P_PL </th>\n",
       "      <th>P_AZM </th>\n",
       "      <th>N_VAL </th>\n",
       "      <th>N_PL </th>\n",
       "      <th>N_AZM </th>\n",
       "    </tr>\n",
       "  </thead>\n",
       "  <tbody>\n",
       "    <tr>\n",
       "      <th>0</th>\n",
       "      <td> 665385</td>\n",
       "      <td> NEIS     </td>\n",
       "      <td> 1979-05-20</td>\n",
       "      <td> 22:59:14.20</td>\n",
       "      <td> 30.029</td>\n",
       "      <td> 80.310</td>\n",
       "      <td> 33</td>\n",
       "      <td> NaN</td>\n",
       "      <td> HRVD     </td>\n",
       "      <td> 17</td>\n",
       "      <td>...</td>\n",
       "      <td> 17</td>\n",
       "      <td> 5.16</td>\n",
       "      <td> 52</td>\n",
       "      <td>  16</td>\n",
       "      <td>-5.59</td>\n",
       "      <td> 38</td>\n",
       "      <td> 194</td>\n",
       "      <td> 0.42</td>\n",
       "      <td>  1</td>\n",
       "      <td> 285</td>\n",
       "    </tr>\n",
       "    <tr>\n",
       "      <th>1</th>\n",
       "      <td> 663769</td>\n",
       "      <td> NEIS     </td>\n",
       "      <td> 1979-06-19</td>\n",
       "      <td> 16:29:11.60</td>\n",
       "      <td> 26.741</td>\n",
       "      <td> 87.506</td>\n",
       "      <td> 24</td>\n",
       "      <td> NaN</td>\n",
       "      <td> HRVD     </td>\n",
       "      <td> 16</td>\n",
       "      <td>...</td>\n",
       "      <td> 16</td>\n",
       "      <td> 3.72</td>\n",
       "      <td> 11</td>\n",
       "      <td>  84</td>\n",
       "      <td>-3.97</td>\n",
       "      <td> 78</td>\n",
       "      <td> 243</td>\n",
       "      <td> 0.25</td>\n",
       "      <td>  4</td>\n",
       "      <td> 353</td>\n",
       "    </tr>\n",
       "    <tr>\n",
       "      <th>2</th>\n",
       "      <td> 651572</td>\n",
       "      <td> NEIS     </td>\n",
       "      <td> 1980-02-22</td>\n",
       "      <td> 03:02:47.20</td>\n",
       "      <td> 30.506</td>\n",
       "      <td> 88.583</td>\n",
       "      <td> 33</td>\n",
       "      <td> NaN</td>\n",
       "      <td> HRVD     </td>\n",
       "      <td> 18</td>\n",
       "      <td>...</td>\n",
       "      <td> 18</td>\n",
       "      <td> 4.41</td>\n",
       "      <td>  6</td>\n",
       "      <td> 273</td>\n",
       "      <td>-3.58</td>\n",
       "      <td> 83</td>\n",
       "      <td>  62</td>\n",
       "      <td>-0.83</td>\n",
       "      <td>  4</td>\n",
       "      <td> 183</td>\n",
       "    </tr>\n",
       "    <tr>\n",
       "      <th>3</th>\n",
       "      <td> 644075</td>\n",
       "      <td> NEIS     </td>\n",
       "      <td> 1980-06-22</td>\n",
       "      <td> 14:38:53.70</td>\n",
       "      <td> 30.100</td>\n",
       "      <td> 81.768</td>\n",
       "      <td> 33</td>\n",
       "      <td> NaN</td>\n",
       "      <td> HRVD     </td>\n",
       "      <td> 16</td>\n",
       "      <td>...</td>\n",
       "      <td> 16</td>\n",
       "      <td> 5.80</td>\n",
       "      <td> 15</td>\n",
       "      <td> 270</td>\n",
       "      <td>-4.87</td>\n",
       "      <td> 63</td>\n",
       "      <td>  31</td>\n",
       "      <td>-0.93</td>\n",
       "      <td> 22</td>\n",
       "      <td> 174</td>\n",
       "    </tr>\n",
       "    <tr>\n",
       "      <th>4</th>\n",
       "      <td> 642635</td>\n",
       "      <td> NEIS     </td>\n",
       "      <td> 1980-07-29</td>\n",
       "      <td> 12:23:12.30</td>\n",
       "      <td> 29.331</td>\n",
       "      <td> 81.258</td>\n",
       "      <td> 34</td>\n",
       "      <td> NaN</td>\n",
       "      <td> HRVD     </td>\n",
       "      <td> 17</td>\n",
       "      <td>...</td>\n",
       "      <td> 17</td>\n",
       "      <td> 2.16</td>\n",
       "      <td> 70</td>\n",
       "      <td>   9</td>\n",
       "      <td>-2.31</td>\n",
       "      <td> 20</td>\n",
       "      <td> 188</td>\n",
       "      <td> 0.15</td>\n",
       "      <td>  0</td>\n",
       "      <td> 278</td>\n",
       "    </tr>\n",
       "  </tbody>\n",
       "</table>\n",
       "<p>5 rows × 35 columns</p>\n",
       "</div>"
      ],
      "text/plain": [
       "  EVENT_ID  AUTHOR     DATE        TIME         LAT       LON        DEPTH  \\\n",
       "0   665385  NEIS       1979-05-20  22:59:14.20    30.029     80.310     33   \n",
       "1   663769  NEIS       1979-06-19  16:29:11.60    26.741     87.506     24   \n",
       "2   651572  NEIS       1980-02-22  03:02:47.20    30.506     88.583     33   \n",
       "3   644075  NEIS       1980-06-22  14:38:53.70    30.100     81.768     33   \n",
       "4   642635  NEIS       1980-07-29  12:23:12.30    29.331     81.258     34   \n",
       "\n",
       "  CENTROID AUTHOR   .1  EX ...  EX.2  T_VAL   T_PL   T_AZM   P_VAL   P_PL   \\\n",
       "0      NaN   HRVD       17 ...    17    5.16     52      16   -5.59     38   \n",
       "1      NaN   HRVD       16 ...    16    3.72     11      84   -3.97     78   \n",
       "2      NaN   HRVD       18 ...    18    4.41      6     273   -3.58     83   \n",
       "3      NaN   HRVD       16 ...    16    5.80     15     270   -4.87     63   \n",
       "4      NaN   HRVD       17 ...    17    2.16     70       9   -2.31     20   \n",
       "\n",
       "   P_AZM   N_VAL   N_PL   N_AZM   \n",
       "0     194    0.42      1     285  \n",
       "1     243    0.25      4     353  \n",
       "2      62   -0.83      4     183  \n",
       "3      31   -0.93     22     174  \n",
       "4     188    0.15      0     278  \n",
       "\n",
       "[5 rows x 35 columns]"
      ]
     },
     "execution_count": 7,
     "metadata": {},
     "output_type": "execute_result"
    }
   ],
   "source": [
    "eq_df.head()"
   ]
  },
  {
   "cell_type": "code",
   "execution_count": 8,
   "metadata": {
    "collapsed": false
   },
   "outputs": [
    {
     "data": {
      "text/html": [
       "<div style=\"max-height:1000px;max-width:1500px;overflow:auto;\">\n",
       "<table border=\"1\" class=\"dataframe\">\n",
       "  <thead>\n",
       "    <tr style=\"text-align: right;\">\n",
       "      <th></th>\n",
       "      <th>EVENT_ID</th>\n",
       "      <th>AUTHOR   </th>\n",
       "      <th>DATE      </th>\n",
       "      <th>TIME       </th>\n",
       "      <th>LAT     </th>\n",
       "      <th>LON      </th>\n",
       "      <th>DEPTH</th>\n",
       "      <th>CENTROID</th>\n",
       "      <th>AUTHOR   .1</th>\n",
       "      <th>EX</th>\n",
       "      <th>...</th>\n",
       "      <th>EX.2</th>\n",
       "      <th>T_VAL </th>\n",
       "      <th>T_PL </th>\n",
       "      <th>T_AZM </th>\n",
       "      <th>P_VAL </th>\n",
       "      <th>P_PL </th>\n",
       "      <th>P_AZM </th>\n",
       "      <th>N_VAL </th>\n",
       "      <th>N_PL </th>\n",
       "      <th>N_AZM </th>\n",
       "    </tr>\n",
       "  </thead>\n",
       "  <tbody>\n",
       "    <tr>\n",
       "      <th>133</th>\n",
       "      <td> 601614687</td>\n",
       "      <td> GCMT     </td>\n",
       "      <td> 2012-08-23</td>\n",
       "      <td> 16:30:22.80</td>\n",
       "      <td> 28.05</td>\n",
       "      <td> 82.65</td>\n",
       "      <td> 28.9</td>\n",
       "      <td> TRUE    </td>\n",
       "      <td> GCMT     </td>\n",
       "      <td> 16</td>\n",
       "      <td>...</td>\n",
       "      <td> 16</td>\n",
       "      <td> 3.429</td>\n",
       "      <td> 66</td>\n",
       "      <td>  16</td>\n",
       "      <td>-3.686</td>\n",
       "      <td> 24</td>\n",
       "      <td> 207</td>\n",
       "      <td> 0.256</td>\n",
       "      <td>  4</td>\n",
       "      <td> 116</td>\n",
       "    </tr>\n",
       "    <tr>\n",
       "      <th>134</th>\n",
       "      <td> 601777961</td>\n",
       "      <td> GCMT     </td>\n",
       "      <td> 2012-10-02</td>\n",
       "      <td> 18:37:38.70</td>\n",
       "      <td> 26.78</td>\n",
       "      <td> 92.95</td>\n",
       "      <td> 35.5</td>\n",
       "      <td> TRUE    </td>\n",
       "      <td> GCMT     </td>\n",
       "      <td> 16</td>\n",
       "      <td>...</td>\n",
       "      <td> 16</td>\n",
       "      <td> 2.389</td>\n",
       "      <td> 55</td>\n",
       "      <td> 297</td>\n",
       "      <td>-2.648</td>\n",
       "      <td>  2</td>\n",
       "      <td>  29</td>\n",
       "      <td> 0.256</td>\n",
       "      <td> 35</td>\n",
       "      <td> 121</td>\n",
       "    </tr>\n",
       "    <tr>\n",
       "      <th>135</th>\n",
       "      <td> 603157284</td>\n",
       "      <td> GCMT     </td>\n",
       "      <td> 2013-06-28</td>\n",
       "      <td> 11:40:50.40</td>\n",
       "      <td> 28.49</td>\n",
       "      <td> 82.18</td>\n",
       "      <td> 18.2</td>\n",
       "      <td> TRUE    </td>\n",
       "      <td> GCMT     </td>\n",
       "      <td> 16</td>\n",
       "      <td>...</td>\n",
       "      <td> 16</td>\n",
       "      <td> 3.633</td>\n",
       "      <td> 70</td>\n",
       "      <td>  13</td>\n",
       "      <td>-4.057</td>\n",
       "      <td> 19</td>\n",
       "      <td> 200</td>\n",
       "      <td> 0.421</td>\n",
       "      <td>  2</td>\n",
       "      <td> 110</td>\n",
       "    </tr>\n",
       "    <tr>\n",
       "      <th>136</th>\n",
       "      <td>       NaN</td>\n",
       "      <td>       NaN</td>\n",
       "      <td>        NaN</td>\n",
       "      <td>         NaN</td>\n",
       "      <td>   NaN</td>\n",
       "      <td>   NaN</td>\n",
       "      <td>  NaN</td>\n",
       "      <td>      NaN</td>\n",
       "      <td>       NaN</td>\n",
       "      <td>NaN</td>\n",
       "      <td>...</td>\n",
       "      <td>NaN</td>\n",
       "      <td>   NaN</td>\n",
       "      <td>NaN</td>\n",
       "      <td> NaN</td>\n",
       "      <td>   NaN</td>\n",
       "      <td>NaN</td>\n",
       "      <td> NaN</td>\n",
       "      <td>   NaN</td>\n",
       "      <td>NaN</td>\n",
       "      <td> NaN</td>\n",
       "    </tr>\n",
       "    <tr>\n",
       "      <th>137</th>\n",
       "      <td>      STOP</td>\n",
       "      <td>       NaN</td>\n",
       "      <td>        NaN</td>\n",
       "      <td>         NaN</td>\n",
       "      <td>   NaN</td>\n",
       "      <td>   NaN</td>\n",
       "      <td>  NaN</td>\n",
       "      <td>      NaN</td>\n",
       "      <td>       NaN</td>\n",
       "      <td>NaN</td>\n",
       "      <td>...</td>\n",
       "      <td>NaN</td>\n",
       "      <td>   NaN</td>\n",
       "      <td>NaN</td>\n",
       "      <td> NaN</td>\n",
       "      <td>   NaN</td>\n",
       "      <td>NaN</td>\n",
       "      <td> NaN</td>\n",
       "      <td>   NaN</td>\n",
       "      <td>NaN</td>\n",
       "      <td> NaN</td>\n",
       "    </tr>\n",
       "  </tbody>\n",
       "</table>\n",
       "<p>5 rows × 35 columns</p>\n",
       "</div>"
      ],
      "text/plain": [
       "      EVENT_ID  AUTHOR     DATE        TIME         LAT       LON        \\\n",
       "133  601614687  GCMT       2012-08-23  16:30:22.80     28.05      82.65   \n",
       "134  601777961  GCMT       2012-10-02  18:37:38.70     26.78      92.95   \n",
       "135  603157284  GCMT       2013-06-28  11:40:50.40     28.49      82.18   \n",
       "136        NaN        NaN         NaN          NaN       NaN        NaN   \n",
       "137       STOP        NaN         NaN          NaN       NaN        NaN   \n",
       "\n",
       "     DEPTH  CENTROID AUTHOR   .1  EX ...  EX.2  T_VAL   T_PL   T_AZM   P_VAL   \\\n",
       "133   28.9  TRUE       GCMT       16 ...    16   3.429     66      16  -3.686   \n",
       "134   35.5  TRUE       GCMT       16 ...    16   2.389     55     297  -2.648   \n",
       "135   18.2  TRUE       GCMT       16 ...    16   3.633     70      13  -4.057   \n",
       "136    NaN       NaN         NaN NaN ...   NaN     NaN    NaN     NaN     NaN   \n",
       "137    NaN       NaN         NaN NaN ...   NaN     NaN    NaN     NaN     NaN   \n",
       "\n",
       "     P_PL   P_AZM   N_VAL   N_PL   N_AZM   \n",
       "133     24     207   0.256      4     116  \n",
       "134      2      29   0.256     35     121  \n",
       "135     19     200   0.421      2     110  \n",
       "136    NaN     NaN     NaN    NaN     NaN  \n",
       "137    NaN     NaN     NaN    NaN     NaN  \n",
       "\n",
       "[5 rows x 35 columns]"
      ]
     },
     "execution_count": 8,
     "metadata": {},
     "output_type": "execute_result"
    }
   ],
   "source": [
    "eq_df.tail()"
   ]
  },
  {
   "cell_type": "code",
   "execution_count": 9,
   "metadata": {
    "collapsed": false
   },
   "outputs": [],
   "source": [
    "eq_df = eq_df.iloc[:135,:]"
   ]
  },
  {
   "cell_type": "code",
   "execution_count": 10,
   "metadata": {
    "collapsed": false
   },
   "outputs": [
    {
     "data": {
      "text/html": [
       "<div style=\"max-height:1000px;max-width:1500px;overflow:auto;\">\n",
       "<table border=\"1\" class=\"dataframe\">\n",
       "  <thead>\n",
       "    <tr style=\"text-align: right;\">\n",
       "      <th></th>\n",
       "      <th>EVENT_ID</th>\n",
       "      <th>AUTHOR   </th>\n",
       "      <th>DATE      </th>\n",
       "      <th>TIME       </th>\n",
       "      <th>LAT     </th>\n",
       "      <th>LON      </th>\n",
       "      <th>DEPTH</th>\n",
       "      <th>CENTROID</th>\n",
       "      <th>AUTHOR   .1</th>\n",
       "      <th>EX</th>\n",
       "      <th>...</th>\n",
       "      <th>EX.2</th>\n",
       "      <th>T_VAL </th>\n",
       "      <th>T_PL </th>\n",
       "      <th>T_AZM </th>\n",
       "      <th>P_VAL </th>\n",
       "      <th>P_PL </th>\n",
       "      <th>P_AZM </th>\n",
       "      <th>N_VAL </th>\n",
       "      <th>N_PL </th>\n",
       "      <th>N_AZM </th>\n",
       "    </tr>\n",
       "  </thead>\n",
       "  <tbody>\n",
       "    <tr>\n",
       "      <th>130</th>\n",
       "      <td> 601273351</td>\n",
       "      <td> NEIC     </td>\n",
       "      <td> 2012-07-14</td>\n",
       "      <td> 19:55:17.95</td>\n",
       "      <td> 25.424</td>\n",
       "      <td> 94.48</td>\n",
       "      <td> 52.1</td>\n",
       "      <td>      NaN</td>\n",
       "      <td> NEIC     </td>\n",
       "      <td> 16</td>\n",
       "      <td>...</td>\n",
       "      <td> 16</td>\n",
       "      <td> 7.240</td>\n",
       "      <td> 22</td>\n",
       "      <td> 105</td>\n",
       "      <td>-6.120</td>\n",
       "      <td>  2</td>\n",
       "      <td> 195</td>\n",
       "      <td>-1.120</td>\n",
       "      <td> 68</td>\n",
       "      <td> 290</td>\n",
       "    </tr>\n",
       "    <tr>\n",
       "      <th>131</th>\n",
       "      <td> 601273351</td>\n",
       "      <td> GCMT     </td>\n",
       "      <td> 2012-07-14</td>\n",
       "      <td> 19:55:18.00</td>\n",
       "      <td> 25.400</td>\n",
       "      <td> 94.45</td>\n",
       "      <td> 41.1</td>\n",
       "      <td> TRUE    </td>\n",
       "      <td> GCMT     </td>\n",
       "      <td> 17</td>\n",
       "      <td>...</td>\n",
       "      <td> 17</td>\n",
       "      <td> 1.165</td>\n",
       "      <td> 23</td>\n",
       "      <td> 114</td>\n",
       "      <td>-1.119</td>\n",
       "      <td>  7</td>\n",
       "      <td> 207</td>\n",
       "      <td>-0.046</td>\n",
       "      <td> 66</td>\n",
       "      <td> 315</td>\n",
       "    </tr>\n",
       "    <tr>\n",
       "      <th>132</th>\n",
       "      <td> 601456942</td>\n",
       "      <td> GCMT     </td>\n",
       "      <td> 2012-07-22</td>\n",
       "      <td> 16:44:20.40</td>\n",
       "      <td> 29.930</td>\n",
       "      <td> 88.32</td>\n",
       "      <td> 24.8</td>\n",
       "      <td> TRUE    </td>\n",
       "      <td> GCMT     </td>\n",
       "      <td> 16</td>\n",
       "      <td>...</td>\n",
       "      <td> 16</td>\n",
       "      <td> 3.407</td>\n",
       "      <td> 20</td>\n",
       "      <td>  79</td>\n",
       "      <td>-4.075</td>\n",
       "      <td> 61</td>\n",
       "      <td> 209</td>\n",
       "      <td> 0.670</td>\n",
       "      <td> 21</td>\n",
       "      <td> 341</td>\n",
       "    </tr>\n",
       "    <tr>\n",
       "      <th>133</th>\n",
       "      <td> 601614687</td>\n",
       "      <td> GCMT     </td>\n",
       "      <td> 2012-08-23</td>\n",
       "      <td> 16:30:22.80</td>\n",
       "      <td> 28.050</td>\n",
       "      <td> 82.65</td>\n",
       "      <td> 28.9</td>\n",
       "      <td> TRUE    </td>\n",
       "      <td> GCMT     </td>\n",
       "      <td> 16</td>\n",
       "      <td>...</td>\n",
       "      <td> 16</td>\n",
       "      <td> 3.429</td>\n",
       "      <td> 66</td>\n",
       "      <td>  16</td>\n",
       "      <td>-3.686</td>\n",
       "      <td> 24</td>\n",
       "      <td> 207</td>\n",
       "      <td> 0.256</td>\n",
       "      <td>  4</td>\n",
       "      <td> 116</td>\n",
       "    </tr>\n",
       "    <tr>\n",
       "      <th>134</th>\n",
       "      <td> 601777961</td>\n",
       "      <td> GCMT     </td>\n",
       "      <td> 2012-10-02</td>\n",
       "      <td> 18:37:38.70</td>\n",
       "      <td> 26.780</td>\n",
       "      <td> 92.95</td>\n",
       "      <td> 35.5</td>\n",
       "      <td> TRUE    </td>\n",
       "      <td> GCMT     </td>\n",
       "      <td> 16</td>\n",
       "      <td>...</td>\n",
       "      <td> 16</td>\n",
       "      <td> 2.389</td>\n",
       "      <td> 55</td>\n",
       "      <td> 297</td>\n",
       "      <td>-2.648</td>\n",
       "      <td>  2</td>\n",
       "      <td>  29</td>\n",
       "      <td> 0.256</td>\n",
       "      <td> 35</td>\n",
       "      <td> 121</td>\n",
       "    </tr>\n",
       "  </tbody>\n",
       "</table>\n",
       "<p>5 rows × 35 columns</p>\n",
       "</div>"
      ],
      "text/plain": [
       "      EVENT_ID  AUTHOR     DATE        TIME         LAT       LON        \\\n",
       "130  601273351  NEIC       2012-07-14  19:55:17.95    25.424      94.48   \n",
       "131  601273351  GCMT       2012-07-14  19:55:18.00    25.400      94.45   \n",
       "132  601456942  GCMT       2012-07-22  16:44:20.40    29.930      88.32   \n",
       "133  601614687  GCMT       2012-08-23  16:30:22.80    28.050      82.65   \n",
       "134  601777961  GCMT       2012-10-02  18:37:38.70    26.780      92.95   \n",
       "\n",
       "     DEPTH  CENTROID AUTHOR   .1  EX ...  EX.2  T_VAL   T_PL   T_AZM   P_VAL   \\\n",
       "130   52.1       NaN   NEIC       16 ...    16   7.240     22     105  -6.120   \n",
       "131   41.1  TRUE       GCMT       17 ...    17   1.165     23     114  -1.119   \n",
       "132   24.8  TRUE       GCMT       16 ...    16   3.407     20      79  -4.075   \n",
       "133   28.9  TRUE       GCMT       16 ...    16   3.429     66      16  -3.686   \n",
       "134   35.5  TRUE       GCMT       16 ...    16   2.389     55     297  -2.648   \n",
       "\n",
       "     P_PL   P_AZM   N_VAL   N_PL   N_AZM   \n",
       "130      2     195  -1.120     68     290  \n",
       "131      7     207  -0.046     66     315  \n",
       "132     61     209   0.670     21     341  \n",
       "133     24     207   0.256      4     116  \n",
       "134      2      29   0.256     35     121  \n",
       "\n",
       "[5 rows x 35 columns]"
      ]
     },
     "execution_count": 10,
     "metadata": {},
     "output_type": "execute_result"
    }
   ],
   "source": [
    "eq_df.tail()"
   ]
  },
  {
   "cell_type": "code",
   "execution_count": 15,
   "metadata": {
    "collapsed": false
   },
   "outputs": [
    {
     "data": {
      "text/plain": [
       "EVENT_ID        object\n",
       "AUTHOR          object\n",
       "DATE            object\n",
       "TIME            object\n",
       "LAT            float64\n",
       "LON            float64\n",
       "DEPTH          float64\n",
       "CENTROID        object\n",
       "AUTHOR   .1     object\n",
       "EX             float64\n",
       "MO             float64\n",
       "MW             float64\n",
       "EX.1           float64\n",
       "MRR            float64\n",
       "MTT            float64\n",
       "MPP            float64\n",
       "MRT            float64\n",
       "MTP            float64\n",
       "MPR            float64\n",
       "STRIKE         float64\n",
       "DIP            float64\n",
       "RAKE           float64\n",
       "STRIKE.1       float64\n",
       "DIP  .1        float64\n",
       "RAKE   .1      float64\n",
       "EX.2           float64\n",
       "T_VAL          float64\n",
       "T_PL           float64\n",
       "T_AZM          float64\n",
       "P_VAL          float64\n",
       "P_PL           float64\n",
       "P_AZM          float64\n",
       "N_VAL          float64\n",
       "N_PL           float64\n",
       "N_AZM          float64\n",
       "dtype: object"
      ]
     },
     "execution_count": 15,
     "metadata": {},
     "output_type": "execute_result"
    }
   ],
   "source": [
    "eq_df.dtypes"
   ]
  },
  {
   "cell_type": "code",
   "execution_count": 5,
   "metadata": {
    "collapsed": false
   },
   "outputs": [
    {
     "data": {
      "text/plain": [
       "Index(['EVENT_ID', 'AUTHOR   ', 'DATE      ', 'TIME       ', 'LAT     ', 'LON      ', 'DEPTH', 'CENTROID', 'AUTHOR   .1', 'EX', 'MO   ', 'MW  ', 'EX.1', 'MRR   ', 'MTT   ', 'MPP   ', 'MRT   ', 'MTP   ', 'MPR   ', 'STRIKE', 'DIP  ', 'RAKE   ', 'STRIKE.1', 'DIP  .1', 'RAKE   .1', 'EX.2', 'T_VAL ', 'T_PL ', 'T_AZM ', 'P_VAL ', 'P_PL ', 'P_AZM ', 'N_VAL ', 'N_PL ', 'N_AZM '], dtype='object')"
      ]
     },
     "execution_count": 5,
     "metadata": {},
     "output_type": "execute_result"
    }
   ],
   "source": [
    "eq_df.columns"
   ]
  },
  {
   "cell_type": "code",
   "execution_count": 23,
   "metadata": {
    "collapsed": false
   },
   "outputs": [
    {
     "data": {
      "text/plain": [
       "Index(['EVENT_ID', 'AUTHOR', 'DATE', 'TIME', 'LAT', 'LON', 'DEPTH', 'CENTROID', 'AUTHOR.1', 'EX', 'MO', 'MW', 'EX.1', 'MRR', 'MTT', 'MPP', 'MRT', 'MTP', 'MPR', 'STRIKE', 'DIP', 'RAKE', 'STRIKE.1', 'DIP.1', 'RAKE.1', 'EX.2', 'T_VAL', 'T_PL', 'T_AZM', 'P_VAL', 'P_PL', 'P_AZM', 'N_VAL', 'N_PL', 'N_AZM', 'east', 'north'], dtype='object')"
      ]
     },
     "execution_count": 23,
     "metadata": {},
     "output_type": "execute_result"
    }
   ],
   "source": [
    "eq_df.columns = [col.replace(' ','') for col in eq_df.columns]\n",
    "\n",
    "eq_df.columns"
   ]
  },
  {
   "cell_type": "code",
   "execution_count": 21,
   "metadata": {
    "collapsed": false
   },
   "outputs": [],
   "source": [
    "wgs84 = pj.Proj(init='epsg:4326')\n",
    "utm45 = pj.Proj(init='epsg:32645')"
   ]
  },
  {
   "cell_type": "code",
   "execution_count": 22,
   "metadata": {
    "collapsed": false
   },
   "outputs": [],
   "source": [
    "eq_df['east'], eq_df['north'] = pj.transform(wgs84, utm45,\n",
    "                                             eq_df.LON.values,\n",
    "                                             eq_df.LAT.values)"
   ]
  },
  {
   "cell_type": "code",
   "execution_count": 24,
   "metadata": {
    "collapsed": false
   },
   "outputs": [
    {
     "name": "stderr",
     "output_type": "stream",
     "text": [
      "-c:9: SettingWithCopyWarning: A value is trying to be set on a copy of a slice from a DataFrame\n",
      "-c:10: SettingWithCopyWarning: A value is trying to be set on a copy of a slice from a DataFrame\n",
      "-c:11: SettingWithCopyWarning: A value is trying to be set on a copy of a slice from a DataFrame\n",
      "-c:13: SettingWithCopyWarning: A value is trying to be set on a copy of a slice from a DataFrame\n",
      "-c:14: SettingWithCopyWarning: A value is trying to be set on a copy of a slice from a DataFrame\n",
      "-c:15: SettingWithCopyWarning: A value is trying to be set on a copy of a slice from a DataFrame\n"
     ]
    }
   ],
   "source": [
    "eqs = eq_df[['east', 'north', 'DEPTH']]\n",
    "\n",
    "np.random.seed(69)\n",
    "\n",
    "rnds = np.random.rand(len(eqs.index)) >= 0.5\n",
    "\n",
    "eqs['strike'], eqs['dip'], eqs['rake'] = (0., 0., 0.)\n",
    "\n",
    "eqs.loc[rnds, 'strike'] = eq_df.loc[rnds, 'STRIKE']\n",
    "eqs.loc[rnds, 'dip'] = eq_df.loc[rnds, 'DIP']\n",
    "eqs.loc[rnds, 'rake'] = eq_df.loc[rnds, 'RAKE']\n",
    "\n",
    "eqs.loc[~rnds, 'strike'] = eq_df.loc[~rnds, 'STRIKE.1']\n",
    "eqs.loc[~rnds, 'dip'] = eq_df.loc[~rnds, 'DIP.1']\n",
    "eqs.loc[~rnds, 'rake'] = eq_df.loc[~rnds, 'RAKE.1']"
   ]
  },
  {
   "cell_type": "code",
   "execution_count": 25,
   "metadata": {
    "collapsed": false
   },
   "outputs": [
    {
     "data": {
      "text/html": [
       "<div style=\"max-height:1000px;max-width:1500px;overflow:auto;\">\n",
       "<table border=\"1\" class=\"dataframe\">\n",
       "  <thead>\n",
       "    <tr style=\"text-align: right;\">\n",
       "      <th></th>\n",
       "      <th>east</th>\n",
       "      <th>north</th>\n",
       "      <th>DEPTH</th>\n",
       "      <th>strike</th>\n",
       "      <th>dip</th>\n",
       "      <th>rake</th>\n",
       "    </tr>\n",
       "  </thead>\n",
       "  <tbody>\n",
       "    <tr>\n",
       "      <th>0</th>\n",
       "      <td>-145783.916307</td>\n",
       "      <td> 3340920.485589</td>\n",
       "      <td> 33</td>\n",
       "      <td> 274</td>\n",
       "      <td>  7</td>\n",
       "      <td> 79</td>\n",
       "    </tr>\n",
       "    <tr>\n",
       "      <th>1</th>\n",
       "      <td> 550317.779533</td>\n",
       "      <td> 2957849.113062</td>\n",
       "      <td> 24</td>\n",
       "      <td> 179</td>\n",
       "      <td> 34</td>\n",
       "      <td>-82</td>\n",
       "    </tr>\n",
       "    <tr>\n",
       "      <th>2</th>\n",
       "      <td> 651905.627526</td>\n",
       "      <td> 3375921.827987</td>\n",
       "      <td> 33</td>\n",
       "      <td> 180</td>\n",
       "      <td> 51</td>\n",
       "      <td>-95</td>\n",
       "    </tr>\n",
       "    <tr>\n",
       "      <th>3</th>\n",
       "      <td>  -4458.257140</td>\n",
       "      <td> 3341437.570949</td>\n",
       "      <td> 33</td>\n",
       "      <td>  28</td>\n",
       "      <td> 36</td>\n",
       "      <td>-51</td>\n",
       "    </tr>\n",
       "    <tr>\n",
       "      <th>4</th>\n",
       "      <td> -57968.139114</td>\n",
       "      <td> 3258383.542063</td>\n",
       "      <td> 34</td>\n",
       "      <td>  98</td>\n",
       "      <td> 65</td>\n",
       "      <td> 90</td>\n",
       "    </tr>\n",
       "  </tbody>\n",
       "</table>\n",
       "</div>"
      ],
      "text/plain": [
       "            east           north  DEPTH  strike  dip  rake\n",
       "0 -145783.916307  3340920.485589     33     274    7    79\n",
       "1  550317.779533  2957849.113062     24     179   34   -82\n",
       "2  651905.627526  3375921.827987     33     180   51   -95\n",
       "3   -4458.257140  3341437.570949     33      28   36   -51\n",
       "4  -57968.139114  3258383.542063     34      98   65    90"
      ]
     },
     "execution_count": 25,
     "metadata": {},
     "output_type": "execute_result"
    }
   ],
   "source": [
    "eqs.head()"
   ]
  },
  {
   "cell_type": "code",
   "execution_count": 27,
   "metadata": {
    "collapsed": false
   },
   "outputs": [
    {
     "name": "stderr",
     "output_type": "stream",
     "text": [
      "/Users/itchy/src/anaconda/lib/python3.4/site-packages/pandas/core/frame.py:2302: SettingWithCopyWarning: A value is trying to be set on a copy of a slice from a DataFrame\n",
      "  **kwargs)\n"
     ]
    }
   ],
   "source": [
    "#eqs['DEPTH'] *= -1000\n",
    "eqs.rename(columns={'DEPTH' : 'depth'}, inplace=True)"
   ]
  },
  {
   "cell_type": "code",
   "execution_count": 28,
   "metadata": {
    "collapsed": false
   },
   "outputs": [
    {
     "data": {
      "text/html": [
       "<div style=\"max-height:1000px;max-width:1500px;overflow:auto;\">\n",
       "<table border=\"1\" class=\"dataframe\">\n",
       "  <thead>\n",
       "    <tr style=\"text-align: right;\">\n",
       "      <th></th>\n",
       "      <th>east</th>\n",
       "      <th>north</th>\n",
       "      <th>depth</th>\n",
       "      <th>strike</th>\n",
       "      <th>dip</th>\n",
       "      <th>rake</th>\n",
       "    </tr>\n",
       "  </thead>\n",
       "  <tbody>\n",
       "    <tr>\n",
       "      <th>0</th>\n",
       "      <td>-145783.916307</td>\n",
       "      <td> 3340920.485589</td>\n",
       "      <td>-33000</td>\n",
       "      <td> 274</td>\n",
       "      <td>  7</td>\n",
       "      <td> 79</td>\n",
       "    </tr>\n",
       "    <tr>\n",
       "      <th>1</th>\n",
       "      <td> 550317.779533</td>\n",
       "      <td> 2957849.113062</td>\n",
       "      <td>-24000</td>\n",
       "      <td> 179</td>\n",
       "      <td> 34</td>\n",
       "      <td>-82</td>\n",
       "    </tr>\n",
       "    <tr>\n",
       "      <th>2</th>\n",
       "      <td> 651905.627526</td>\n",
       "      <td> 3375921.827987</td>\n",
       "      <td>-33000</td>\n",
       "      <td> 180</td>\n",
       "      <td> 51</td>\n",
       "      <td>-95</td>\n",
       "    </tr>\n",
       "    <tr>\n",
       "      <th>3</th>\n",
       "      <td>  -4458.257140</td>\n",
       "      <td> 3341437.570949</td>\n",
       "      <td>-33000</td>\n",
       "      <td>  28</td>\n",
       "      <td> 36</td>\n",
       "      <td>-51</td>\n",
       "    </tr>\n",
       "    <tr>\n",
       "      <th>4</th>\n",
       "      <td> -57968.139114</td>\n",
       "      <td> 3258383.542063</td>\n",
       "      <td>-34000</td>\n",
       "      <td>  98</td>\n",
       "      <td> 65</td>\n",
       "      <td> 90</td>\n",
       "    </tr>\n",
       "  </tbody>\n",
       "</table>\n",
       "</div>"
      ],
      "text/plain": [
       "            east           north  depth  strike  dip  rake\n",
       "0 -145783.916307  3340920.485589 -33000     274    7    79\n",
       "1  550317.779533  2957849.113062 -24000     179   34   -82\n",
       "2  651905.627526  3375921.827987 -33000     180   51   -95\n",
       "3   -4458.257140  3341437.570949 -33000      28   36   -51\n",
       "4  -57968.139114  3258383.542063 -34000      98   65    90"
      ]
     },
     "execution_count": 28,
     "metadata": {},
     "output_type": "execute_result"
    }
   ],
   "source": []
  },
  {
   "cell_type": "code",
   "execution_count": null,
   "metadata": {
    "collapsed": false
   },
   "outputs": [],
   "source": []
  },
  {
   "cell_type": "code",
   "execution_count": 38,
   "metadata": {
    "collapsed": false
   },
   "outputs": [],
   "source": [
    "C=6.\n",
    "mu = 30e9\n",
    "\n",
    "def calc_Mo_from_M(M, C=C):\n",
    "    \"\"\"\n",
    "    Calculate seismic moment (Mo) from\n",
    "    moment magnitude (M) given a scaling law.\n",
    "    C is a scaling constant; should be set at 6,\n",
    "    but is defined elsewhere in the module so\n",
    "    that all functions using it share a value.\n",
    "    \"\"\"\n",
    "    term1 = 3/2. * C * (np.log(2) + np.log(5) )\n",
    "    term2 = 3/2. * M * (np.log(2) + np.log(5) )\n",
    "    \n",
    "    Mo = np.exp( term1 + term2)\n",
    "    \n",
    "    return Mo\n",
    "\n",
    "\n",
    "def calc_M_from_Mo(Mo, C=C):\n",
    "    \"\"\"\n",
    "    Calculates moment magnitude (M) from seismic moment (Mo)\n",
    "    given a scaling law.\n",
    "    C is a scaling constant; should be set at 6,\n",
    "    but is defined elsewhere in the module so\n",
    "    that all functions using it share a value.\n",
    "    \"\"\"\n",
    "    return (2/3.) * np.log10(Mo) - C\n",
    "\n",
    "\n",
    "def calc_Mo_from_fault_params(L1=None, L2=None, z=None, dip=None, mu=mu, D=None,\n",
    "                              area_dim='km', slip_dim='m', dip_dim='degrees'):\n",
    "    \"\"\"\n",
    "    Calculates the seismic moment Mo (in N m) from fault dimensions,\n",
    "    shear modulus mu, and mean slip distance.\n",
    "    Is currently set up to convert from typical dimensions to meters and\n",
    "    radians; units other than distances in km, slip (D) in m, and\n",
    "    dips in degrees should be converted to meters and radians before passing\n",
    "    to function.\n",
    "    mu should be set at 3e9 (30 GPa) at the top of the module; but it may\n",
    "    change.  It is defined elsewhere so that all functions use the same value.\n",
    "    \"\"\"\n",
    "    if area_dim == 'km':\n",
    "        L1 *= 1000\n",
    "        L2 *= 1000\n",
    "\n",
    "    if dip_dim == 'degrees':\n",
    "        dip = np.radians(dip)\n",
    "\n",
    "    #return (L * z * mu * D) / np.sin(dip)\n",
    "    return (L1 * L2 * mu * D )\n",
    "\n",
    "\n",
    "def calc_eq_slip_from_Mo(Mo, L1=1, L2=1, mu=mu, area_dim='km', slip_dim='m'):\n",
    "    if area_dim == 'km':\n",
    "        L1 *= 1000\n",
    "        L2 *= 1000\n",
    "        \n",
    "    return Mo / (L1 * L2 * mu)"
   ]
  },
  {
   "cell_type": "code",
   "execution_count": 34,
   "metadata": {
    "collapsed": false
   },
   "outputs": [
    {
     "data": {
      "text/plain": [
       "6.636161672959549"
      ]
     },
     "execution_count": 34,
     "metadata": {},
     "output_type": "execute_result"
    }
   ],
   "source": [
    "# scale moment calculations to weighting in finite fault model\n",
    "\n",
    "ff_moment_1m_patch = calc_M_from_Mo(calc_Mo_from_fault_params(L1=15, L2=20, D=1, dip=15.))\n",
    "\n",
    "ff_moment_1m_patch"
   ]
  },
  {
   "cell_type": "code",
   "execution_count": 35,
   "metadata": {
    "collapsed": false
   },
   "outputs": [
    {
     "data": {
      "text/plain": [
       "9e+18"
      ]
     },
     "execution_count": 35,
     "metadata": {},
     "output_type": "execute_result"
    }
   ],
   "source": [
    "calc_Mo_from_fault_params(L1=15, L2=20, D=1, dip=15.)"
   ]
  },
  {
   "cell_type": "code",
   "execution_count": 39,
   "metadata": {
    "collapsed": false
   },
   "outputs": [
    {
     "data": {
      "text/plain": [
       "1.0"
      ]
     },
     "execution_count": 39,
     "metadata": {},
     "output_type": "execute_result"
    }
   ],
   "source": [
    "calc_eq_slip_from_Mo(calc_Mo_from_fault_params(L1=15, L2=20, D=1, dip=15.),\n",
    "                     L1=15, L2=20)"
   ]
  },
  {
   "cell_type": "code",
   "execution_count": 40,
   "metadata": {
    "collapsed": false
   },
   "outputs": [],
   "source": [
    "eqs['slip_m'] = calc_eq_slip_from_Mo(eq_df.MW, L1=15, L2=20)"
   ]
  },
  {
   "cell_type": "code",
   "execution_count": 41,
   "metadata": {
    "collapsed": false
   },
   "outputs": [],
   "source": [
    "eqs['point_index'] = eq_df.EVENT_ID"
   ]
  },
  {
   "cell_type": "code",
   "execution_count": 42,
   "metadata": {
    "collapsed": false
   },
   "outputs": [],
   "source": [
    "eqs.to_csv('../data/fault_data/fms/all_fms.csv', index=False)"
   ]
  },
  {
   "cell_type": "code",
   "execution_count": null,
   "metadata": {
    "collapsed": false
   },
   "outputs": [],
   "source": []
  }
 ],
 "metadata": {
  "kernelspec": {
   "display_name": "Python 3",
   "language": "python",
   "name": "python3"
  },
  "language_info": {
   "codemirror_mode": {
    "name": "ipython",
    "version": 3
   },
   "file_extension": ".py",
   "mimetype": "text/x-python",
   "name": "python",
   "nbconvert_exporter": "python",
   "pygments_lexer": "ipython3",
   "version": "3.4.3"
  }
 },
 "nbformat": 4,
 "nbformat_minor": 0
}
