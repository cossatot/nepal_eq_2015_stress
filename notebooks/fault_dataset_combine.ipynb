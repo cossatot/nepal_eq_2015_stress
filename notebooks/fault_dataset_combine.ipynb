{
 "cells": [
  {
   "cell_type": "code",
   "execution_count": 1,
   "metadata": {
    "collapsed": false
   },
   "outputs": [],
   "source": [
    "import pandas as pd\n",
    "import numpy as np\n",
    "import pyproj as pj"
   ]
  },
  {
   "cell_type": "code",
   "execution_count": 2,
   "metadata": {
    "collapsed": false
   },
   "outputs": [],
   "source": [
    "fsp = pd.read_csv('../data/fault_data/hayes_finite_fault.fsp', \n",
    "                  delim_whitespace=True, comment='%', skiprows=50,\n",
    "                  names=['lat', 'lon', 'x', 'y', 'z', 'slip_m', 'rake', 't_rup', 'rise'])"
   ]
  },
  {
   "cell_type": "code",
   "execution_count": 3,
   "metadata": {
    "collapsed": false
   },
   "outputs": [
    {
     "data": {
      "text/html": [
       "<div style=\"max-height:1000px;max-width:1500px;overflow:auto;\">\n",
       "<table border=\"1\" class=\"dataframe\">\n",
       "  <thead>\n",
       "    <tr style=\"text-align: right;\">\n",
       "      <th></th>\n",
       "      <th>lat</th>\n",
       "      <th>lon</th>\n",
       "      <th>x</th>\n",
       "      <th>y</th>\n",
       "      <th>z</th>\n",
       "      <th>slip_m</th>\n",
       "      <th>rake</th>\n",
       "      <th>t_rup</th>\n",
       "      <th>rise</th>\n",
       "    </tr>\n",
       "  </thead>\n",
       "  <tbody>\n",
       "    <tr>\n",
       "      <th>0</th>\n",
       "      <td> 26.9545</td>\n",
       "      <td> 85.8867</td>\n",
       "      <td> 112.0661</td>\n",
       "      <td>-140.8269</td>\n",
       "      <td> 1.9764</td>\n",
       "      <td> 0.1815</td>\n",
       "      <td>  75.1493</td>\n",
       "      <td> 107.6</td>\n",
       "      <td>  9.6</td>\n",
       "    </tr>\n",
       "    <tr>\n",
       "      <th>1</th>\n",
       "      <td> 27.0305</td>\n",
       "      <td> 85.7017</td>\n",
       "      <td>  93.6608</td>\n",
       "      <td>-132.5311</td>\n",
       "      <td> 1.9764</td>\n",
       "      <td> 0.1372</td>\n",
       "      <td>  78.2388</td>\n",
       "      <td>  98.4</td>\n",
       "      <td> 11.2</td>\n",
       "    </tr>\n",
       "    <tr>\n",
       "      <th>2</th>\n",
       "      <td> 27.1066</td>\n",
       "      <td> 85.5166</td>\n",
       "      <td>  75.2604</td>\n",
       "      <td>-124.1967</td>\n",
       "      <td> 1.9764</td>\n",
       "      <td> 0.1409</td>\n",
       "      <td> 109.2604</td>\n",
       "      <td>  87.2</td>\n",
       "      <td> 11.2</td>\n",
       "    </tr>\n",
       "    <tr>\n",
       "      <th>3</th>\n",
       "      <td> 27.1827</td>\n",
       "      <td> 85.3316</td>\n",
       "      <td>  56.8998</td>\n",
       "      <td>-115.8346</td>\n",
       "      <td> 1.9764</td>\n",
       "      <td> 0.0012</td>\n",
       "      <td> 105.4416</td>\n",
       "      <td>  74.4</td>\n",
       "      <td>  1.6</td>\n",
       "    </tr>\n",
       "    <tr>\n",
       "      <th>4</th>\n",
       "      <td> 27.2587</td>\n",
       "      <td> 85.1466</td>\n",
       "      <td>  38.5593</td>\n",
       "      <td>-107.4561</td>\n",
       "      <td> 1.9764</td>\n",
       "      <td> 0.0216</td>\n",
       "      <td> 125.1266</td>\n",
       "      <td>  60.4</td>\n",
       "      <td>  1.6</td>\n",
       "    </tr>\n",
       "  </tbody>\n",
       "</table>\n",
       "</div>"
      ],
      "text/plain": [
       "       lat      lon         x         y       z  slip_m      rake  t_rup  rise\n",
       "0  26.9545  85.8867  112.0661 -140.8269  1.9764  0.1815   75.1493  107.6   9.6\n",
       "1  27.0305  85.7017   93.6608 -132.5311  1.9764  0.1372   78.2388   98.4  11.2\n",
       "2  27.1066  85.5166   75.2604 -124.1967  1.9764  0.1409  109.2604   87.2  11.2\n",
       "3  27.1827  85.3316   56.8998 -115.8346  1.9764  0.0012  105.4416   74.4   1.6\n",
       "4  27.2587  85.1466   38.5593 -107.4561  1.9764  0.0216  125.1266   60.4   1.6"
      ]
     },
     "execution_count": 3,
     "metadata": {},
     "output_type": "execute_result"
    }
   ],
   "source": [
    "fsp.head()"
   ]
  },
  {
   "cell_type": "code",
   "execution_count": 5,
   "metadata": {
    "collapsed": false
   },
   "outputs": [],
   "source": [
    "fsp['strike'] = 295.\n",
    "fsp['dip'] = 10.\n",
    "fsp['fault_name'] = 'MHT_rupture'\n"
   ]
  },
  {
   "cell_type": "code",
   "execution_count": 6,
   "metadata": {
    "collapsed": false
   },
   "outputs": [
    {
     "data": {
      "text/html": [
       "<div style=\"max-height:1000px;max-width:1500px;overflow:auto;\">\n",
       "<table border=\"1\" class=\"dataframe\">\n",
       "  <thead>\n",
       "    <tr style=\"text-align: right;\">\n",
       "      <th></th>\n",
       "      <th>lat</th>\n",
       "      <th>lon</th>\n",
       "      <th>x</th>\n",
       "      <th>y</th>\n",
       "      <th>z</th>\n",
       "      <th>slip_m</th>\n",
       "      <th>rake</th>\n",
       "      <th>t_rup</th>\n",
       "      <th>rise</th>\n",
       "      <th>strike</th>\n",
       "      <th>dip</th>\n",
       "      <th>fault_name</th>\n",
       "    </tr>\n",
       "  </thead>\n",
       "  <tbody>\n",
       "    <tr>\n",
       "      <th>0</th>\n",
       "      <td> 26.9545</td>\n",
       "      <td> 85.8867</td>\n",
       "      <td> 112.0661</td>\n",
       "      <td>-140.8269</td>\n",
       "      <td> 1.9764</td>\n",
       "      <td> 0.1815</td>\n",
       "      <td>  75.1493</td>\n",
       "      <td> 107.6</td>\n",
       "      <td>  9.6</td>\n",
       "      <td> 295</td>\n",
       "      <td> 10</td>\n",
       "      <td> MHT_rupture</td>\n",
       "    </tr>\n",
       "    <tr>\n",
       "      <th>1</th>\n",
       "      <td> 27.0305</td>\n",
       "      <td> 85.7017</td>\n",
       "      <td>  93.6608</td>\n",
       "      <td>-132.5311</td>\n",
       "      <td> 1.9764</td>\n",
       "      <td> 0.1372</td>\n",
       "      <td>  78.2388</td>\n",
       "      <td>  98.4</td>\n",
       "      <td> 11.2</td>\n",
       "      <td> 295</td>\n",
       "      <td> 10</td>\n",
       "      <td> MHT_rupture</td>\n",
       "    </tr>\n",
       "    <tr>\n",
       "      <th>2</th>\n",
       "      <td> 27.1066</td>\n",
       "      <td> 85.5166</td>\n",
       "      <td>  75.2604</td>\n",
       "      <td>-124.1967</td>\n",
       "      <td> 1.9764</td>\n",
       "      <td> 0.1409</td>\n",
       "      <td> 109.2604</td>\n",
       "      <td>  87.2</td>\n",
       "      <td> 11.2</td>\n",
       "      <td> 295</td>\n",
       "      <td> 10</td>\n",
       "      <td> MHT_rupture</td>\n",
       "    </tr>\n",
       "    <tr>\n",
       "      <th>3</th>\n",
       "      <td> 27.1827</td>\n",
       "      <td> 85.3316</td>\n",
       "      <td>  56.8998</td>\n",
       "      <td>-115.8346</td>\n",
       "      <td> 1.9764</td>\n",
       "      <td> 0.0012</td>\n",
       "      <td> 105.4416</td>\n",
       "      <td>  74.4</td>\n",
       "      <td>  1.6</td>\n",
       "      <td> 295</td>\n",
       "      <td> 10</td>\n",
       "      <td> MHT_rupture</td>\n",
       "    </tr>\n",
       "    <tr>\n",
       "      <th>4</th>\n",
       "      <td> 27.2587</td>\n",
       "      <td> 85.1466</td>\n",
       "      <td>  38.5593</td>\n",
       "      <td>-107.4561</td>\n",
       "      <td> 1.9764</td>\n",
       "      <td> 0.0216</td>\n",
       "      <td> 125.1266</td>\n",
       "      <td>  60.4</td>\n",
       "      <td>  1.6</td>\n",
       "      <td> 295</td>\n",
       "      <td> 10</td>\n",
       "      <td> MHT_rupture</td>\n",
       "    </tr>\n",
       "  </tbody>\n",
       "</table>\n",
       "</div>"
      ],
      "text/plain": [
       "       lat      lon         x         y       z  slip_m      rake  t_rup  \\\n",
       "0  26.9545  85.8867  112.0661 -140.8269  1.9764  0.1815   75.1493  107.6   \n",
       "1  27.0305  85.7017   93.6608 -132.5311  1.9764  0.1372   78.2388   98.4   \n",
       "2  27.1066  85.5166   75.2604 -124.1967  1.9764  0.1409  109.2604   87.2   \n",
       "3  27.1827  85.3316   56.8998 -115.8346  1.9764  0.0012  105.4416   74.4   \n",
       "4  27.2587  85.1466   38.5593 -107.4561  1.9764  0.0216  125.1266   60.4   \n",
       "\n",
       "   rise  strike  dip   fault_name  \n",
       "0   9.6     295   10  MHT_rupture  \n",
       "1  11.2     295   10  MHT_rupture  \n",
       "2  11.2     295   10  MHT_rupture  \n",
       "3   1.6     295   10  MHT_rupture  \n",
       "4   1.6     295   10  MHT_rupture  "
      ]
     },
     "execution_count": 6,
     "metadata": {},
     "output_type": "execute_result"
    }
   ],
   "source": [
    "fsp.head()"
   ]
  },
  {
   "cell_type": "code",
   "execution_count": 7,
   "metadata": {
    "collapsed": false
   },
   "outputs": [],
   "source": [
    "htm = pd.read_csv('../data/fault_data/htm_faults.csv')"
   ]
  },
  {
   "cell_type": "code",
   "execution_count": 8,
   "metadata": {
    "collapsed": false
   },
   "outputs": [
    {
     "data": {
      "text/html": [
       "<div style=\"max-height:1000px;max-width:1500px;overflow:auto;\">\n",
       "<table border=\"1\" class=\"dataframe\">\n",
       "  <thead>\n",
       "    <tr style=\"text-align: right;\">\n",
       "      <th></th>\n",
       "      <th>east</th>\n",
       "      <th>north</th>\n",
       "      <th>depth</th>\n",
       "      <th>point_index</th>\n",
       "      <th>strike</th>\n",
       "      <th>dip</th>\n",
       "      <th>rake</th>\n",
       "      <th>fault_name</th>\n",
       "      <th>htm_ind</th>\n",
       "    </tr>\n",
       "  </thead>\n",
       "  <tbody>\n",
       "    <tr>\n",
       "      <th>1595</th>\n",
       "      <td> 333071.108041</td>\n",
       "      <td> 3195863.464197</td>\n",
       "      <td>-8696</td>\n",
       "      <td> 175</td>\n",
       "      <td> 194.926051</td>\n",
       "      <td> 55</td>\n",
       "      <td>-90</td>\n",
       "      <td> NaN</td>\n",
       "      <td> 922</td>\n",
       "    </tr>\n",
       "    <tr>\n",
       "      <th>1596</th>\n",
       "      <td> 332868.103509</td>\n",
       "      <td> 3197976.078167</td>\n",
       "      <td>-8605</td>\n",
       "      <td> 176</td>\n",
       "      <td> 194.926051</td>\n",
       "      <td> 55</td>\n",
       "      <td>-90</td>\n",
       "      <td> NaN</td>\n",
       "      <td> 922</td>\n",
       "    </tr>\n",
       "    <tr>\n",
       "      <th>1597</th>\n",
       "      <td> 332900.874850</td>\n",
       "      <td> 3200349.175353</td>\n",
       "      <td>-8676</td>\n",
       "      <td> 177</td>\n",
       "      <td> 194.926051</td>\n",
       "      <td> 55</td>\n",
       "      <td>-90</td>\n",
       "      <td> NaN</td>\n",
       "      <td> 922</td>\n",
       "    </tr>\n",
       "    <tr>\n",
       "      <th>1598</th>\n",
       "      <td> 333508.166327</td>\n",
       "      <td> 3202318.759937</td>\n",
       "      <td>-8796</td>\n",
       "      <td> 178</td>\n",
       "      <td> 194.926051</td>\n",
       "      <td> 55</td>\n",
       "      <td>-90</td>\n",
       "      <td> NaN</td>\n",
       "      <td> 922</td>\n",
       "    </tr>\n",
       "    <tr>\n",
       "      <th>1599</th>\n",
       "      <td> 334474.029461</td>\n",
       "      <td> 3205074.635366</td>\n",
       "      <td>-8490</td>\n",
       "      <td> 179</td>\n",
       "      <td> 194.926051</td>\n",
       "      <td> 55</td>\n",
       "      <td>-90</td>\n",
       "      <td> NaN</td>\n",
       "      <td> 922</td>\n",
       "    </tr>\n",
       "  </tbody>\n",
       "</table>\n",
       "</div>"
      ],
      "text/plain": [
       "               east           north  depth  point_index      strike  dip  \\\n",
       "1595  333071.108041  3195863.464197  -8696          175  194.926051   55   \n",
       "1596  332868.103509  3197976.078167  -8605          176  194.926051   55   \n",
       "1597  332900.874850  3200349.175353  -8676          177  194.926051   55   \n",
       "1598  333508.166327  3202318.759937  -8796          178  194.926051   55   \n",
       "1599  334474.029461  3205074.635366  -8490          179  194.926051   55   \n",
       "\n",
       "      rake fault_name  htm_ind  \n",
       "1595   -90        NaN      922  \n",
       "1596   -90        NaN      922  \n",
       "1597   -90        NaN      922  \n",
       "1598   -90        NaN      922  \n",
       "1599   -90        NaN      922  "
      ]
     },
     "execution_count": 8,
     "metadata": {},
     "output_type": "execute_result"
    }
   ],
   "source": [
    "htm.tail()"
   ]
  },
  {
   "cell_type": "code",
   "execution_count": 9,
   "metadata": {
    "collapsed": false
   },
   "outputs": [],
   "source": [
    "htm['slip_m'] = 0.05"
   ]
  },
  {
   "cell_type": "code",
   "execution_count": 10,
   "metadata": {
    "collapsed": false
   },
   "outputs": [],
   "source": [
    "ff = fsp[['z', 'slip_m', 'rake', 'strike', 'dip']]\n",
    "\n",
    "#ff.columns=['east', 'north', 'depth', 'slip_m', 'rake', 'strike', 'dip']"
   ]
  },
  {
   "cell_type": "code",
   "execution_count": 11,
   "metadata": {
    "collapsed": false
   },
   "outputs": [],
   "source": [
    "wgs84 = pj.Proj(init='epsg:4326')\n",
    "utm45 = pj.Proj(init='epsg:32645')\n",
    "\n",
    "ff['east'], ff['north'] = pj.transform(wgs84, utm45, fsp.lon.values, fsp.lat.values)"
   ]
  },
  {
   "cell_type": "code",
   "execution_count": 12,
   "metadata": {
    "collapsed": false
   },
   "outputs": [
    {
     "data": {
      "text/html": [
       "<div style=\"max-height:1000px;max-width:1500px;overflow:auto;\">\n",
       "<table border=\"1\" class=\"dataframe\">\n",
       "  <thead>\n",
       "    <tr style=\"text-align: right;\">\n",
       "      <th></th>\n",
       "      <th>z</th>\n",
       "      <th>slip_m</th>\n",
       "      <th>rake</th>\n",
       "      <th>strike</th>\n",
       "      <th>dip</th>\n",
       "      <th>east</th>\n",
       "      <th>north</th>\n",
       "    </tr>\n",
       "  </thead>\n",
       "  <tbody>\n",
       "    <tr>\n",
       "      <th>0</th>\n",
       "      <td> 1.9764</td>\n",
       "      <td> 0.1815</td>\n",
       "      <td>  75.1493</td>\n",
       "      <td> 295</td>\n",
       "      <td> 10</td>\n",
       "      <td> 389495.184377</td>\n",
       "      <td> 2981882.397859</td>\n",
       "    </tr>\n",
       "    <tr>\n",
       "      <th>1</th>\n",
       "      <td> 1.9764</td>\n",
       "      <td> 0.1372</td>\n",
       "      <td>  78.2388</td>\n",
       "      <td> 295</td>\n",
       "      <td> 10</td>\n",
       "      <td> 371217.176384</td>\n",
       "      <td> 2990476.582043</td>\n",
       "    </tr>\n",
       "    <tr>\n",
       "      <th>2</th>\n",
       "      <td> 1.9764</td>\n",
       "      <td> 0.1409</td>\n",
       "      <td> 109.2604</td>\n",
       "      <td> 295</td>\n",
       "      <td> 10</td>\n",
       "      <td> 352953.546302</td>\n",
       "      <td> 2999109.728820</td>\n",
       "    </tr>\n",
       "    <tr>\n",
       "      <th>3</th>\n",
       "      <td> 1.9764</td>\n",
       "      <td> 0.0012</td>\n",
       "      <td> 105.4416</td>\n",
       "      <td> 295</td>\n",
       "      <td> 10</td>\n",
       "      <td> 334724.026010</td>\n",
       "      <td> 3007770.701491</td>\n",
       "    </tr>\n",
       "    <tr>\n",
       "      <th>4</th>\n",
       "      <td> 1.9764</td>\n",
       "      <td> 0.0216</td>\n",
       "      <td> 125.1266</td>\n",
       "      <td> 295</td>\n",
       "      <td> 10</td>\n",
       "      <td> 316518.527897</td>\n",
       "      <td> 3016448.681931</td>\n",
       "    </tr>\n",
       "  </tbody>\n",
       "</table>\n",
       "</div>"
      ],
      "text/plain": [
       "        z  slip_m      rake  strike  dip           east           north\n",
       "0  1.9764  0.1815   75.1493     295   10  389495.184377  2981882.397859\n",
       "1  1.9764  0.1372   78.2388     295   10  371217.176384  2990476.582043\n",
       "2  1.9764  0.1409  109.2604     295   10  352953.546302  2999109.728820\n",
       "3  1.9764  0.0012  105.4416     295   10  334724.026010  3007770.701491\n",
       "4  1.9764  0.0216  125.1266     295   10  316518.527897  3016448.681931"
      ]
     },
     "execution_count": 12,
     "metadata": {},
     "output_type": "execute_result"
    }
   ],
   "source": [
    "ff.head()"
   ]
  },
  {
   "cell_type": "code",
   "execution_count": 13,
   "metadata": {
    "collapsed": false
   },
   "outputs": [],
   "source": [
    "ff = ff[['east', 'north', 'z', 'strike', 'dip', 'slip_m', 'rake']]\n",
    "ff.columns = ['east', 'north', 'depth', 'strike', 'dip', 'slip_m', 'rake']"
   ]
  },
  {
   "cell_type": "code",
   "execution_count": 14,
   "metadata": {
    "collapsed": false
   },
   "outputs": [],
   "source": [
    "ff['fault_name'] = 'MHT_rupture'\n",
    "ff['point_index'] = ff.index.values\n",
    "ff['htm_ind'] = 9999"
   ]
  },
  {
   "cell_type": "code",
   "execution_count": 37,
   "metadata": {
    "collapsed": false
   },
   "outputs": [],
   "source": [
    "ff.depth *= -1000"
   ]
  },
  {
   "cell_type": "code",
   "execution_count": 41,
   "metadata": {
    "collapsed": false
   },
   "outputs": [],
   "source": [
    "faults = pd.concat([htm, ff])"
   ]
  },
  {
   "cell_type": "code",
   "execution_count": 42,
   "metadata": {
    "collapsed": false
   },
   "outputs": [
    {
     "data": {
      "text/plain": [
       "(1721, 10)"
      ]
     },
     "execution_count": 42,
     "metadata": {},
     "output_type": "execute_result"
    }
   ],
   "source": [
    "faults.shape"
   ]
  },
  {
   "cell_type": "code",
   "execution_count": 43,
   "metadata": {
    "collapsed": false
   },
   "outputs": [
    {
     "data": {
      "text/html": [
       "<div style=\"max-height:1000px;max-width:1500px;overflow:auto;\">\n",
       "<table border=\"1\" class=\"dataframe\">\n",
       "  <thead>\n",
       "    <tr style=\"text-align: right;\">\n",
       "      <th></th>\n",
       "      <th>depth</th>\n",
       "      <th>dip</th>\n",
       "      <th>east</th>\n",
       "      <th>fault_name</th>\n",
       "      <th>htm_ind</th>\n",
       "      <th>north</th>\n",
       "      <th>point_index</th>\n",
       "      <th>rake</th>\n",
       "      <th>slip_m</th>\n",
       "      <th>strike</th>\n",
       "    </tr>\n",
       "  </thead>\n",
       "  <tbody>\n",
       "    <tr>\n",
       "      <th>0</th>\n",
       "      <td> 4623</td>\n",
       "      <td> 55</td>\n",
       "      <td> 210702.346219</td>\n",
       "      <td> NaN</td>\n",
       "      <td> 30</td>\n",
       "      <td> 3295884.106254</td>\n",
       "      <td> 0</td>\n",
       "      <td>-90</td>\n",
       "      <td> 0.1</td>\n",
       "      <td> 19.761917</td>\n",
       "    </tr>\n",
       "    <tr>\n",
       "      <th>1</th>\n",
       "      <td> 4762</td>\n",
       "      <td> 55</td>\n",
       "      <td> 205435.348084</td>\n",
       "      <td> NaN</td>\n",
       "      <td> 30</td>\n",
       "      <td> 3287130.049210</td>\n",
       "      <td> 1</td>\n",
       "      <td>-90</td>\n",
       "      <td> 0.1</td>\n",
       "      <td> 19.761917</td>\n",
       "    </tr>\n",
       "    <tr>\n",
       "      <th>2</th>\n",
       "      <td> 4831</td>\n",
       "      <td> 55</td>\n",
       "      <td> 200405.436713</td>\n",
       "      <td> NaN</td>\n",
       "      <td> 30</td>\n",
       "      <td> 3267428.950486</td>\n",
       "      <td> 2</td>\n",
       "      <td>-90</td>\n",
       "      <td> 0.1</td>\n",
       "      <td> 19.761917</td>\n",
       "    </tr>\n",
       "    <tr>\n",
       "      <th>3</th>\n",
       "      <td> 4677</td>\n",
       "      <td> 55</td>\n",
       "      <td> 200853.134701</td>\n",
       "      <td> NaN</td>\n",
       "      <td> 30</td>\n",
       "      <td> 3259918.710871</td>\n",
       "      <td> 3</td>\n",
       "      <td>-90</td>\n",
       "      <td> 0.1</td>\n",
       "      <td> 19.761917</td>\n",
       "    </tr>\n",
       "    <tr>\n",
       "      <th>4</th>\n",
       "      <td> 4797</td>\n",
       "      <td> 55</td>\n",
       "      <td> 198732.170284</td>\n",
       "      <td> NaN</td>\n",
       "      <td> 30</td>\n",
       "      <td> 3242085.302656</td>\n",
       "      <td> 4</td>\n",
       "      <td>-90</td>\n",
       "      <td> 0.1</td>\n",
       "      <td> 19.761917</td>\n",
       "    </tr>\n",
       "  </tbody>\n",
       "</table>\n",
       "</div>"
      ],
      "text/plain": [
       "   depth  dip           east fault_name  htm_ind           north  point_index  \\\n",
       "0   4623   55  210702.346219        NaN       30  3295884.106254            0   \n",
       "1   4762   55  205435.348084        NaN       30  3287130.049210            1   \n",
       "2   4831   55  200405.436713        NaN       30  3267428.950486            2   \n",
       "3   4677   55  200853.134701        NaN       30  3259918.710871            3   \n",
       "4   4797   55  198732.170284        NaN       30  3242085.302656            4   \n",
       "\n",
       "   rake  slip_m     strike  \n",
       "0   -90     0.1  19.761917  \n",
       "1   -90     0.1  19.761917  \n",
       "2   -90     0.1  19.761917  \n",
       "3   -90     0.1  19.761917  \n",
       "4   -90     0.1  19.761917  "
      ]
     },
     "execution_count": 43,
     "metadata": {},
     "output_type": "execute_result"
    }
   ],
   "source": [
    "faults.head()"
   ]
  },
  {
   "cell_type": "code",
   "execution_count": 44,
   "metadata": {
    "collapsed": false
   },
   "outputs": [],
   "source": [
    "faults = faults[['east', 'north', 'depth', 'strike', 'dip', 'slip_m', 'rake',\n",
    "                 'fault_name', 'point_index', 'htm_ind']]"
   ]
  },
  {
   "cell_type": "code",
   "execution_count": 45,
   "metadata": {
    "collapsed": false
   },
   "outputs": [],
   "source": [
    "faults.to_csv('../data/fault_data/all_fault_pts.csv')"
   ]
  },
  {
   "cell_type": "code",
   "execution_count": null,
   "metadata": {
    "collapsed": false
   },
   "outputs": [],
   "source": []
  }
 ],
 "metadata": {
  "kernelspec": {
   "display_name": "Python 3",
   "language": "python",
   "name": "python3"
  },
  "language_info": {
   "codemirror_mode": {
    "name": "ipython",
    "version": 3
   },
   "file_extension": ".py",
   "mimetype": "text/x-python",
   "name": "python",
   "nbconvert_exporter": "python",
   "pygments_lexer": "ipython3",
   "version": "3.4.3"
  }
 },
 "nbformat": 4,
 "nbformat_minor": 0
}
