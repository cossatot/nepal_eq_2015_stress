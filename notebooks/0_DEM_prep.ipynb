{
 "cells": [
  {
   "cell_type": "code",
   "execution_count": 1,
   "metadata": {
    "collapsed": true
   },
   "outputs": [],
   "source": [
    "%matplotlib inline\n",
    "%config InlineBackend.figure_format = 'retina'"
   ]
  },
  {
   "cell_type": "code",
   "execution_count": 2,
   "metadata": {
    "collapsed": false
   },
   "outputs": [],
   "source": [
    "from __future__ import division\n",
    "import gdal\n",
    "import numpy as np\n",
    "import matplotlib.pyplot as plt\n",
    "import json\n",
    "import pyproj as pj"
   ]
  },
  {
   "cell_type": "code",
   "execution_count": 3,
   "metadata": {
    "collapsed": true
   },
   "outputs": [],
   "source": [
    "dem_dataset = gdal.Open('../data/dem/s_tibet_utm45n_500m_clip.tif')"
   ]
  },
  {
   "cell_type": "code",
   "execution_count": 4,
   "metadata": {
    "collapsed": false
   },
   "outputs": [
    {
     "name": "stdout",
     "output_type": "stream",
     "text": [
      "{'n_rows': 2548, 'x_res_m': 423.895245806536, 'upper_left_x': -345300.6406560004, 'x_rotation': 0.0, 'y_rotation': 0.0, 'y_res_m': 423.895245806536, 'n_cols': 3763, 'upper_left_y': 3650189.109228576}\n"
     ]
    }
   ],
   "source": [
    "dem_transform = {'upper_left_x': dem_dataset.GetGeoTransform()[0],\n",
    "                 'x_res_m' : dem_dataset.GetGeoTransform()[1],\n",
    "                 'x_rotation': dem_dataset.GetGeoTransform()[2],\n",
    "                 'upper_left_y': dem_dataset.GetGeoTransform()[3],\n",
    "                 'y_rotation': dem_dataset.GetGeoTransform()[4],\n",
    "                 'y_res_m': dem_dataset.GetGeoTransform()[5],\n",
    "                 'n_cols': dem_dataset.RasterXSize,\n",
    "                 'n_rows': dem_dataset.RasterYSize}\n",
    "\n",
    "dem_transform['y_res_m'] *= -1 # correct for the upper-left origin thing\n",
    "\n",
    "print(dem_transform)"
   ]
  },
  {
   "cell_type": "code",
   "execution_count": 5,
   "metadata": {
    "collapsed": true
   },
   "outputs": [],
   "source": [
    "dem_transform['east_min'] = dem_transform['upper_left_x']\n",
    "\n",
    "dem_transform['east_max'] = (dem_transform['x_res_m'] * dem_transform['n_cols']\n",
    "                             + dem_transform['east_min'])\n",
    "\n",
    "dem_transform['north_max'] = dem_transform['upper_left_y']\n",
    "\n",
    "dem_transform['north_min'] = (-1 * dem_transform['y_res_m'] * dem_transform['n_rows']\n",
    "                              + dem_transform['north_max'])"
   ]
  },
  {
   "cell_type": "code",
   "execution_count": 6,
   "metadata": {
    "collapsed": true
   },
   "outputs": [],
   "source": [
    "wgs84 = pj.Proj(init='epsg:4326')\n",
    "utm41n = pj.Proj(init='epsg:32641')\n",
    "\n",
    "dem_transform['lon_min'], dem_transform['lat_min'] = pj.transform(utm41n, wgs84,\n",
    "                                                            dem_transform['east_min'], \n",
    "                                                            dem_transform['north_min'])\n",
    "\n",
    "dem_transform['lon_max'], dem_transform['lat_max'] = pj.transform(utm41n, wgs84,\n",
    "                                                            dem_transform['east_max'], \n",
    "                                                            dem_transform['north_max'])"
   ]
  },
  {
   "cell_type": "code",
   "execution_count": null,
   "metadata": {
    "collapsed": true
   },
   "outputs": [],
   "source": []
  }
 ],
 "metadata": {
  "kernelspec": {
   "display_name": "Python 3",
   "language": "python",
   "name": "python3"
  },
  "language_info": {
   "codemirror_mode": {
    "name": "ipython",
    "version": 3
   },
   "file_extension": ".py",
   "mimetype": "text/x-python",
   "name": "python",
   "nbconvert_exporter": "python",
   "pygments_lexer": "ipython3",
   "version": "3.4.3"
  }
 },
 "nbformat": 4,
 "nbformat_minor": 0
}
